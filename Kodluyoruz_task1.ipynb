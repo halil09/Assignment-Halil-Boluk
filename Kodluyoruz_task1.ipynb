{
 "cells": [
  {
   "cell_type": "code",
   "execution_count": 40,
   "metadata": {},
   "outputs": [],
   "source": [
    "import os\n",
    "import pandas as pd\n",
    "import numpy as np \n",
    "\n",
    "class Info():\n",
    "    def __init__(self,data):\n",
    "        self.data=data\n",
    "        print(data.head())\n",
    "        print(data.len())\n",
    "        print(data.describe())\n",
    "        print(data.dtypes())\n",
    "        \n",
    "class preprocessing():\n",
    "    def _init_(self)\n",
    "         print(\".....\")\n",
    "    def cleaning():\n",
    "         print(\".....\")\n",
    "    def cat_encoding():\n",
    "         print(\".....\")\n",
    "    def fillna():\n",
    "        print(\".....\")\n",
    "    def dummy_encoding():\n",
    "         print(\".....\")\n",
    "    def splitting():\n",
    "         print(\".....\")\n",
    "    def outlier():\n",
    "        print(\".....\")\n",
    "    def scaling():\n",
    "         print(\".....\")\n",
    "    def feature_eng():\n",
    "         print(\".....\")\n",
    "            \n",
    "class visualize():\n",
    "    def __init__(self):\n",
    "        pass\n",
    "    def boxplot(self):\n",
    "        pass\n",
    "    def PieChart(self):\n",
    "        pass\n",
    "    def barplot(self):\n",
    "        pass\n",
    "    def histogram(self):\n",
    "        pass\n",
    "    def countplot(self):\n",
    "        pass\n",
    "    def BubblePlot(self):  \n",
    "        pass\n",
    "    def scatterplot(self):\n",
    "        pass\n",
    "    def heatmap(self):\n",
    "        pass\n",
    "    \n",
    "class model():\n",
    "    \n",
    "class supervised(model): \n",
    "       \n",
    "class unsupervised(model):\n",
    "        \n",
    "class GridsearchCV():\n"
   ]
  },
  {
   "cell_type": "code",
   "execution_count": null,
   "metadata": {},
   "outputs": [],
   "source": [
    "\n"
   ]
  }
 ],
 "metadata": {
  "kernelspec": {
   "display_name": "Python 3",
   "language": "python",
   "name": "python3"
  },
  "language_info": {
   "codemirror_mode": {
    "name": "ipython",
    "version": 3
   },
   "file_extension": ".py",
   "mimetype": "text/x-python",
   "name": "python",
   "nbconvert_exporter": "python",
   "pygments_lexer": "ipython3",
   "version": "3.7.6"
  }
 },
 "nbformat": 4,
 "nbformat_minor": 4
}
